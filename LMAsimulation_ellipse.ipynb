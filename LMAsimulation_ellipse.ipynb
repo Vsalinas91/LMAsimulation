{
 "cells": [
  {
   "cell_type": "markdown",
   "metadata": {},
   "source": [
    "# Monte Carlo simulation\n",
    "\n",
    "Please cite: V. C. Chmielewski and E. C. Bruning (2016), Lightning Mapping Array flash detection performance with variable receiver thresholds, J. Geophys. Res. Atmos., 121, 8600-8614, doi:10.1002/2016JD025159\n",
    "\n",
    "If any results from this model are presented.\n",
    "\n",
    "Contact:\n",
    "vanna.chmielewski@noaa.gov"
   ]
  },
  {
   "cell_type": "code",
   "execution_count": 1,
   "metadata": {},
   "outputs": [
    {
     "name": "stdout",
     "output_type": "stream",
     "text": [
      "Populating the interactive namespace from numpy and matplotlib\n"
     ]
    }
   ],
   "source": [
    "%pylab inline"
   ]
  },
  {
   "cell_type": "code",
   "execution_count": 2,
   "metadata": {
    "tags": []
   },
   "outputs": [],
   "source": [
    "import pyproj as proj4\n",
    "import numpy as np\n",
    "import matplotlib.pyplot as plt\n",
    "from matplotlib.patches import Ellipse\n",
    "import pandas as pd\n",
    "import datetime\n",
    "\n",
    "# import read_logs\n",
    "try:\n",
    "    import cartopy.crs as ccrs\n",
    "    import cartopy.crs as ccrs\n",
    "    import cartopy.feature as cf\n",
    "    import cartopy.geodesic as geodesic\n",
    "    from shapely.geometry import Point\n",
    "    from mpl_toolkits.axes_grid1 import make_axes_locatable\n",
    "    e=None\n",
    "except ImportError as e:\n",
    "    print('And older version of python is being used and cartopy cannot be imported. Defualting to Basemap for plotting.')\n",
    "    from mpl_toolkits.basemap import Basemap\n",
    "from coordinateSystems import TangentPlaneCartesianSystem, GeographicSystem, MapProjection\n",
    "import scipy.stats as st"
   ]
  },
  {
   "cell_type": "code",
   "execution_count": 3,
   "metadata": {
    "tags": []
   },
   "outputs": [],
   "source": [
    "import parsed_functions as pf\n",
    "import simulation_ellipse as se\n",
    "try:\n",
    "    sq = np.load('source_quantiles',fix_imports='True', encoding='latin1',allow_pickle=True) # in Watts \n",
    "    fde = 100-np.load('fde.csv'    ,fix_imports='True', encoding='latin1',allow_pickle=True) # Corresponding flash DE\n",
    "except:\n",
    "    sq = np.load('source_quantiles',fix_imports='True', encoding='latin1') # in Watts \n",
    "    fde = 100-np.load('fde.csv'    ,fix_imports='True', encoding='latin1') # Corresponding flash DE"
   ]
  },
  {
   "cell_type": "code",
   "execution_count": 4,
   "metadata": {
    "tags": []
   },
   "outputs": [],
   "source": [
    "c0     = 3.0e8 # m/s\n",
    "dt_rms = 23.e-9 # seconds\n",
    "lma_digitizer_window = 40.0e-9 # seconds per sample"
   ]
  },
  {
   "cell_type": "markdown",
   "metadata": {},
   "source": [
    "### Station coordinates and thresholds from a set of log files \n",
    "#### Specify: \n",
    "* start time \n",
    "* end time \n",
    "* the directory holding the log files \n",
    "* any stations you wish to exclude from the analysis"
   ]
  },
  {
   "cell_type": "code",
   "execution_count": 5,
   "metadata": {
    "tags": []
   },
   "outputs": [],
   "source": [
    "# import os\n",
    "\n",
    "# # start_time = datetime.datetime(2014,5,26,2) #25 set\n",
    "# # end_time   = datetime.datetime(2014,5,26,3,50)\n",
    "# useddir = '/Users/Vanna/Documents/logs/'\n",
    "# exclude = np.array(['W','A',])\n",
    "\n",
    "# days = np.array([start_time+datetime.timedelta(days=i) for i in range((end_time-start_time).days+1)])\n",
    "# days_string = np.array([i.strftime(\"%y%m%d\") for i in days])\n",
    "\n",
    "# logs = pd.DataFrame()\n",
    "# dir = os.listdir(useddir)\n",
    "# for file in dir:\n",
    "#     if np.any(file[2:] == days_string) & np.all(exclude!=file[1]): \n",
    "#         print file\n",
    "#         logs = logs.combine_first(read_logs.parsing(useddir+file,T_set='True'))\n",
    "\n",
    "# aves = logs[start_time:end_time].mean()\n",
    "# aves = np.array(aves).reshape(4,len(aves)/4).T"
   ]
  },
  {
   "cell_type": "markdown",
   "metadata": {},
   "source": [
    "### Station coordinates from csv file\n",
    "\n",
    "Input network title and csv file here"
   ]
  },
  {
   "cell_type": "code",
   "execution_count": 38,
   "metadata": {
    "tags": []
   },
   "outputs": [],
   "source": [
    "Network = 'grid_LMA' # name of network in the csv file\n",
    "network_data = 'network.csv' #network.csv for idealized simulation run\n",
    "stations = pd.read_csv(network_data) # network csv file with one or multiple networks\n",
    "stations.set_index('network').loc[Network]\n",
    "aves = np.array(stations.set_index('network').loc[Network])[:,:-1].astype('float')"
   ]
  },
  {
   "cell_type": "markdown",
   "metadata": {},
   "source": [
    "### Setting up and checking station locations"
   ]
  },
  {
   "cell_type": "code",
   "execution_count": 39,
   "metadata": {
    "tags": []
   },
   "outputs": [],
   "source": [
    "center = (np.mean(aves[:,1]), np.mean(aves[:,2]), np.mean(aves[:,0]))\n",
    "geo  = GeographicSystem()\n",
    "tanp = TangentPlaneCartesianSystem(center[0], center[1], center[2])\n",
    "mapp = MapProjection\n",
    "projl = MapProjection(projection='laea', lat_0=center[0], lon_0=center[1])\n",
    "\n",
    "alt, lat, lon  = aves[:,:3].T\n",
    "stations_ecef  = np.array(geo.toECEF(lon, lat, alt)).T\n",
    "stations_local = tanp.toLocal(stations_ecef.T).T\n",
    "\n",
    "center_ecef = np.array(geo.toECEF(center[1],center[0],center[2]))\n",
    "ordered_threshs = aves[:,-1]"
   ]
  },
  {
   "cell_type": "code",
   "execution_count": 40,
   "metadata": {
    "scrolled": true,
    "tags": []
   },
   "outputs": [
    {
     "data": {
      "image/png": "[encoded data removed]",
      "text/plain": [
       "<Figure size 432x288 with 2 Axes>"
      ]
     },
     "metadata": {
      "needs_background": "light"
     },
     "output_type": "display_data"
    }
   ],
   "source": [
    "plt.scatter(stations_local[:,0]/1000., stations_local[:,1]/1000., c=aves[:,3])\n",
    "plt.colorbar()\n",
    "\n",
    "circle=plt.Circle((0,0),30,color='k',fill=False)\n",
    "# plt.xlim(-80,80)\n",
    "# plt.ylim(-80,80)\n",
    "# fig = plt.gcf()\n",
    "# fig.gca().add_artist(circle)\n",
    "plt.show()"
   ]
  },
  {
   "cell_type": "markdown",
   "metadata": {},
   "source": [
    "### Setting up grid\n",
    "\n",
    "Input desired grid boundaries and interval here in meters from the center of the network (no point located over the center!)"
   ]
  },
  {
   "cell_type": "code",
   "execution_count": 41,
   "metadata": {
    "tags": []
   },
   "outputs": [],
   "source": [
    "xmin, xmax, xint = -300001, 299999, 20e3\n",
    "ymin, ymax, yint = -300001, 299999, 20e3\n",
    "# alts = np.arange(500,20500,500.)\n",
    "alts = np.array([7000])\n",
    "\n",
    "initial_points = np.array(np.meshgrid(np.arange(xmin,xmax+xint,xint),\n",
    "                                      np.arange(ymin,ymax+yint,yint), alts))\n",
    "\n",
    "x,y,z=initial_points.reshape((3,int(np.size(initial_points)/3)))\n",
    "points2 = tanp.toLocal(np.array(projl.toECEF(x,y,z))).T\n",
    "\n",
    "tanp_all = []\n",
    "for i in range(len(aves[:,0])): \n",
    "    tanp_all = tanp_all + [TangentPlaneCartesianSystem(aves[i,1],aves[i,2],aves[i,0])]"
   ]
  },
  {
   "cell_type": "markdown",
   "metadata": {},
   "source": [
    "### Transform Simulation Coordinates back to Lat, Lon for plotting:"
   ]
  },
  {
   "cell_type": "code",
   "execution_count": 42,
   "metadata": {},
   "outputs": [],
   "source": [
    "#Create coordinate ranges\n",
    "xcoords,ycoords = np.arange(xmin,xmax+xint,xint),np.arange(xmin,xmax+xint,xint)\n",
    "zcoords         = np.repeat(0,xcoords.shape[0])\n",
    "#Transform from local tangent plane-->ECEF-->lat lon (altitudes ignored and don't matter for the grid)\n",
    "tx,ty,tz        = tanp.fromLocal(np.vstack((xcoords,ycoords,zcoords)))\n",
    "lonm,latm,altm  = geo.fromECEF(tx,ty,tz)\n",
    "\n",
    "#Transform points for plotting:\n",
    "px,py,pz        = tanp.fromLocal(np.vstack((points2[:,0],points2[:,1],points2[:,2])))\n",
    "plon,plat,palt  = geo.fromECEF(px,py,pz)"
   ]
  },
  {
   "cell_type": "markdown",
   "metadata": {},
   "source": [
    "### General calculations at grid points\n",
    "Set number of iterations and solution requirements here (minimum number of contributing stations, maximum reduced chi squared value)\n",
    "\n",
    "This fuction will return the dimensions of the covariance ellipses for solutions at each point at 'ntsd' standard deviations in the 'evalues' array (width (m), height (m), angle) and the standard deviation of altitude solution in the 'svalues' array (m)\n",
    "\n",
    "If a source is not sampled by enough stations for a solution a RuntimeWarning will be generated, but this will not negatively impact the following calculations"
   ]
  },
  {
   "cell_type": "code",
   "execution_count": 43,
   "metadata": {},
   "outputs": [
    {
     "name": "stderr",
     "output_type": "stream",
     "text": [
      "/opt/anaconda3/lib/python3.8/site-packages/numpy/lib/function_base.py:380: RuntimeWarning: Mean of empty slice.\n",
      "  avg = a.mean(axis)\n",
      "/opt/anaconda3/lib/python3.8/site-packages/numpy/core/_methods.py:180: RuntimeWarning: invalid value encountered in true_divide\n",
      "  ret = um.true_divide(\n",
      "/Users/admin/Code/LMAsimulation/simulation_ellipse.py:283: RuntimeWarning: Degrees of freedom <= 0 for slice\n",
      "  cov = np.cov(proj_soluts[0][chi2[good]<chi2_filter], proj_soluts[1][chi2[good]<chi2_filter])\n",
      "/opt/anaconda3/lib/python3.8/site-packages/numpy/lib/function_base.py:2493: RuntimeWarning: divide by zero encountered in true_divide\n",
      "  c *= np.true_divide(1, fact)\n",
      "/opt/anaconda3/lib/python3.8/site-packages/numpy/lib/function_base.py:2493: RuntimeWarning: invalid value encountered in multiply\n",
      "  c *= np.true_divide(1, fact)\n"
     ]
    }
   ],
   "source": [
    "iterations=500\n",
    "\n",
    "evalues = np.zeros((np.shape(points2)[0],3))\n",
    "svalues = np.zeros((np.shape(points2)[0],1))\n",
    "\n",
    "# # for r,theta,z errors and standard deviations and overall detection efficiency\n",
    "for i in range(len(x)):\n",
    "    evalues[i],svalues[i]= se.black_boxtesting(points2[i,0], points2[i,1], points2[i,2], iterations,\n",
    "             stations_local,ordered_threshs,stations_ecef,center_ecef,\n",
    "             tanp_all,\n",
    "             c0,dt_rms,tanp,projl,\n",
    "             chi2_filter=5.,min_stations=6,ntsd=3\n",
    "             )"
   ]
  },
  {
   "cell_type": "markdown",
   "metadata": {},
   "source": [
    "### Detection efficiency"
   ]
  },
  {
   "cell_type": "code",
   "execution_count": 44,
   "metadata": {
    "tags": []
   },
   "outputs": [],
   "source": [
    "# Currently hard-coded to calculate over a 300 x 300 km grid around the network\n",
    "latp, lonp, sde, fde_a, minp = pf.quick_method(\n",
    "                 # input array must be in N x (lat, lon, alt, threshold) \n",
    "                 np.array([aves[:,1],aves[:,2],aves[:,0],aves[:,3]]).transpose(), \n",
    "                 sq, fde, \n",
    "                 xint=5000, # Grid spacing\n",
    "                 altitude=7000, # Altitude of grid MSL\n",
    "                 station_requirement=6, # Minimum number of stations required to trigger\n",
    "                 mindist = 300000 # Grid ends 300 km from the most distant station in each direction\n",
    "                )"
   ]
  },
  {
   "cell_type": "markdown",
   "metadata": {},
   "source": [
    "#### Plotting horizontal errors by ellipse over detection efficiency"
   ]
  },
  {
   "cell_type": "code",
   "execution_count": 45,
   "metadata": {},
   "outputs": [
    {
     "name": "stderr",
     "output_type": "stream",
     "text": [
      "/opt/anaconda3/lib/python3.8/site-packages/cartopy/mpl/geoaxes.py:1597: UserWarning: The input coordinates to pcolormesh are interpreted as cell centers, but are not monotonically increasing or decreasing. This may lead to incorrectly calculated cell edges, in which case, please supply explicit cell edges to pcolormesh.\n",
      "  X, Y, C, shading = self._pcolorargs('pcolormesh', *args,\n",
      "<ipython-input-45-6dad23184819>:74: UserWarning: Tight layout not applied. The left and right margins cannot be made large enough to accommodate all axes decorations. \n",
      "  plt.tight_layout()\n"
     ]
    },
    {
     "data": {
      "image/png": "[encoded data removed]",
      "text/plain": [
       "<Figure size 324x324 with 2 Axes>"
      ]
     },
     "metadata": {
      "needs_background": "light"
     },
     "output_type": "display_data"
    }
   ],
   "source": [
    "if e is not None:\n",
    "    domain = (xmax-xint/2.)\n",
    "    maps = Basemap(projection='laea',lat_0=center[0],lon_0=center[1],width=domain*2,height=domain*2)\n",
    "    ax = plt.subplot(111)\n",
    "    x, y = maps(lonp, latp)\n",
    "\n",
    "    # s = plt.pcolormesh(x,y,np.ma.masked_where(sde==0,sde),cmap = 'magma') # Source detection efficiency\n",
    "    s = plt.pcolormesh(x,y,np.ma.masked_where(fde_a==0,fde_a),cmap = 'magma') # Flash detection efficiency\n",
    "    plt.colorbar(label='Flash Detection Efficiency (%)')\n",
    "    s.set_clim(vmin=0,vmax=100)\n",
    "\n",
    "    for i in range(len(evalues[:,0])):\n",
    "        ell = Ellipse(xy=(points2[i,0]+domain, points2[i,1]+domain),\n",
    "                  width=evalues[i,0], height=evalues[i,1],\n",
    "                  angle=evalues[i,2], color='black')\n",
    "        ell.set_facecolor('none')\n",
    "        ax.add_artist(ell)\n",
    "\n",
    "    plt.scatter(stations_local[:,0]+domain, stations_local[:,1]+domain, color='m', s=2)\n",
    "    maps.drawstates()\n",
    "    plt.tight_layout()\n",
    "    plt.show()\n",
    "else:\n",
    "    domain = (xmax-xint/2.)\n",
    "    proj = ccrs.LambertAzimuthalEqualArea(central_latitude  = center[0],\n",
    "                                          central_longitude = center[1])\n",
    "    fig = plt.figure(figsize=(4.5,4.5))\n",
    "    ax  = fig.add_subplot(111,projection=proj)\n",
    "\n",
    "    #Set Map Extents:\n",
    "    buffer = .7 #degrees\n",
    "    ax.set_extent([lonp.min()+buffer,lonp.max()-buffer,\n",
    "                   latp.min()+buffer-.4,latp.max()-buffer+.4])\n",
    "\n",
    "    #Source Detection Efficiency\n",
    "    s       = ax.pcolormesh(lonp,latp,np.ma.masked_where(fde_a==0,fde_a),cmap='magma',transform = ccrs.PlateCarree())\n",
    "    divider = make_axes_locatable(ax)\n",
    "    ax_cb   = divider.new_horizontal(size=\"5%\", pad=.3, axes_class=plt.Axes)\n",
    "    fig.add_axes(ax_cb)\n",
    "    plt.colorbar(s,cax=ax_cb,label='Flash Detection Efficiency (%)')\n",
    "    s.set_clim(vmin=0,vmax=100)\n",
    "    \n",
    "    try:\n",
    "        #Draw ellipses for vertical source errors:\n",
    "        #Another janky solution, but it works\n",
    "        for i in np.arange(len(evalues[:,0]))[:]:\n",
    "            ex = evalues[i,0]\n",
    "            ey = evalues[i,1]\n",
    "            ez = evalues[i,2]\n",
    "            ell = Ellipse(xy=(points2[i,0], points2[i,1]),\n",
    "                      width =ex, \n",
    "                      height=ey,\n",
    "                      angle =ez, \n",
    "                      color ='black',\n",
    "                      )\n",
    "            ell.set_facecolor('none')\n",
    "            xform = ell.get_patch_transform()\n",
    "            verts = (xform.transform_path(ell.get_path())).vertices\n",
    "            vx,vy = verts[:,0],verts[:,1]\n",
    "            vz    = np.repeat(0,len(vx))\n",
    "            #Transform:\n",
    "            vecefx,vecefy,vecefz = tanp.fromLocal(np.vstack((vx,vy,vz)))\n",
    "            vlon,vlat,_ = geo.fromECEF(vecefx,vecefy,vecefz)\n",
    "\n",
    "            ax.plot(vlon,vlat,'k-',linewidth=.7,transform=ccrs.PlateCarree())\n",
    "    except:\n",
    "        print('Spatial errors not computed--vertical source error ellipses not plotted.')\n",
    "        pass\n",
    "    # Overlay station locations\n",
    "    ax.scatter(lon,lat, color='m',s=5,transform = ccrs.PlateCarree())\n",
    "\n",
    "    #Add state lines:\n",
    "    ax.add_feature(cf.STATES)\n",
    "    plt.tight_layout()"
   ]
  },
  {
   "cell_type": "markdown",
   "metadata": {},
   "source": [
    "#### Plotting horizontal errors by ellipse over standard deviation of altitude solutions"
   ]
  },
  {
   "cell_type": "code",
   "execution_count": 46,
   "metadata": {},
   "outputs": [
    {
     "name": "stderr",
     "output_type": "stream",
     "text": [
      "<ipython-input-46-3020bbc968d8>:75: UserWarning: Tight layout not applied. The left and right margins cannot be made large enough to accommodate all axes decorations. \n",
      "  plt.tight_layout()\n"
     ]
    },
    {
     "data": {
      "image/png": "[encoded data removed]",
      "text/plain": [
       "<Figure size 324x324 with 2 Axes>"
      ]
     },
     "metadata": {
      "needs_background": "light"
     },
     "output_type": "display_data"
    }
   ],
   "source": [
    "if e is not None:\n",
    "    domain = (xmax-xint/2.)\n",
    "    maps = Basemap(projection='laea',lat_0=center[0],lon_0=center[1],width=domain*2,height=domain*2)\n",
    "    ax = plt.subplot(111)\n",
    "\n",
    "    s = plt.pcolormesh(np.arange(-xmax-xint/2.,xmax+3*xint/2.,xint)+domain,\n",
    "                       np.arange(-xmax-xint/2.,xmax+3*xint/2.,xint)+domain,\n",
    "                       np.ma.masked_where(svalues==0,svalues).reshape(lonm.shape[0],latm.shape[0]),\n",
    "                      cmap = 'viridis_r')\n",
    "    s.set_clim(vmin=0,vmax=5000)\n",
    "    plt.colorbar(label = 'Altitude standard deviation (m)')\n",
    "\n",
    "    for i in range(len(evalues[:,0])):\n",
    "        ell = Ellipse(xy=(points2[i,0]+domain, points2[i,1]+domain),\n",
    "                  width=evalues[i,0], height=evalues[i,1],\n",
    "                  angle=evalues[i,2], color='black')\n",
    "        ell.set_facecolor('none')\n",
    "        ax.add_artist(ell)\n",
    "\n",
    "    plt.scatter(stations_local[:,0]+domain, stations_local[:,1]+domain, color='m', s=2)\n",
    "    maps.drawstates()\n",
    "    plt.tight_layout()\n",
    "    plt.show()\n",
    "\n",
    "else:\n",
    "    domain = (xmax-xint/2.)\n",
    "    proj = ccrs.LambertAzimuthalEqualArea(central_latitude  = center[0],\n",
    "                                          central_longitude = center[1])\n",
    "    fig = plt.figure(figsize=(4.5,4.5))\n",
    "    ax  = fig.add_subplot(111,projection=proj)\n",
    "\n",
    "    #Set Map Extents:\n",
    "    buffer = .7 #degrees\n",
    "    ax.set_extent([lonp.min()+buffer,lonp.max()-buffer,\n",
    "                   latp.min()+buffer-.4,latp.max()-buffer+.4])\n",
    "\n",
    "    #Source Detection Efficiency\n",
    "    s       = ax.pcolormesh(lonm,latm,np.ma.masked_where(svalues==0,svalues).reshape(lonm.shape[0],latm.shape[0]),cmap='viridis_r',transform = ccrs.PlateCarree())\n",
    "    divider = make_axes_locatable(ax)\n",
    "    ax_cb   = divider.new_horizontal(size=\"5%\", pad=.3, axes_class=plt.Axes)\n",
    "    fig.add_axes(ax_cb)\n",
    "    plt.colorbar(s,cax=ax_cb,label='Altitude Standar Deviation (m)')\n",
    "    s.set_clim(vmin=0,vmax=5000)\n",
    "    \n",
    "    try:\n",
    "    #   Draw ellipses for vertical source errors:\n",
    "        for i in np.arange(len(evalues[:,0]))[:]:\n",
    "            ex = evalues[i,0]\n",
    "            ey = evalues[i,1]\n",
    "            ez = evalues[i,2]\n",
    "            ell = Ellipse(xy=(points2[i,0], points2[i,1]),\n",
    "                      width =ex, \n",
    "                      height=ey,\n",
    "                      angle =ez, \n",
    "                      color ='black',\n",
    "                      )\n",
    "            ell.set_facecolor('none')\n",
    "            xform = ell.get_patch_transform()\n",
    "            verts = (xform.transform_path(ell.get_path())).vertices\n",
    "            vx,vy = verts[:,0],verts[:,1]\n",
    "            vz    = np.repeat(0,len(vx))\n",
    "            #Transform:\n",
    "            vecefx,vecefy,vecefz = tanp.fromLocal(np.vstack((vx,vy,vz)))\n",
    "            vlon,vlat,_ = geo.fromECEF(vecefx,vecefy,vecefz)\n",
    "\n",
    "            ax.plot(vlon,vlat,'k-',linewidth=.7,transform=ccrs.PlateCarree())\n",
    "    except:\n",
    "        print('Spatial errors not computed--vertical source error ellipses not plotted.')\n",
    "        pass\n",
    "    # Overlay station locations\n",
    "    ax.scatter(lon,lat, color='m',s=5,transform = ccrs.PlateCarree())\n",
    "\n",
    "    #Add state lines:\n",
    "    ax.add_feature(cf.STATES)\n",
    "    plt.tight_layout()"
   ]
  },
  {
   "cell_type": "code",
   "execution_count": null,
   "metadata": {},
   "outputs": [],
   "source": []
  }
 ],
 "metadata": {
  "kernelspec": {
   "display_name": "Python 3",
   "language": "python",
   "name": "python3"
  },
  "language_info": {
   "codemirror_mode": {
    "name": "ipython",
    "version": 3
   },
   "file_extension": ".py",
   "mimetype": "text/x-python",
   "name": "python",
   "nbconvert_exporter": "python",
   "pygments_lexer": "ipython3",
   "version": "3.8.8"
  }
 },
 "nbformat": 4,
 "nbformat_minor": 4
}
